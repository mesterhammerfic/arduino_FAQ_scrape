{
 "cells": [
  {
   "cell_type": "code",
   "execution_count": 1,
   "metadata": {},
   "outputs": [],
   "source": [
    "from bs4 import BeautifulSoup\n",
    "import requests"
   ]
  },
  {
   "cell_type": "code",
   "execution_count": 2,
   "metadata": {},
   "outputs": [],
   "source": [
    "page = requests.get('https://www.arduino.cc/en/Main/FAQ')\n",
    "soup = BeautifulSoup(page.content)"
   ]
  },
  {
   "cell_type": "code",
   "execution_count": 25,
   "metadata": {},
   "outputs": [],
   "source": [
    "questions = soup.find_all('h4')"
   ]
  },
  {
   "cell_type": "code",
   "execution_count": 28,
   "metadata": {},
   "outputs": [],
   "source": [
    "answers = []\n",
    "\n",
    "for question in questions:\n",
    "    answers.append(question.next_sibling.next_sibling.get_text())"
   ]
  },
  {
   "cell_type": "code",
   "execution_count": 30,
   "metadata": {},
   "outputs": [
    {
     "data": {
      "text/plain": [
       "21"
      ]
     },
     "execution_count": 30,
     "metadata": {},
     "output_type": "execute_result"
    }
   ],
   "source": [
    "len(answers)"
   ]
  },
  {
   "cell_type": "code",
   "execution_count": 31,
   "metadata": {},
   "outputs": [
    {
     "data": {
      "text/plain": [
       "21"
      ]
     },
     "execution_count": 31,
     "metadata": {},
     "output_type": "execute_result"
    }
   ],
   "source": [
    "len(questions)"
   ]
  },
  {
   "cell_type": "code",
   "execution_count": 32,
   "metadata": {},
   "outputs": [],
   "source": [
    "questions = [question.get_text() for question in questions]"
   ]
  },
  {
   "cell_type": "code",
   "execution_count": 33,
   "metadata": {},
   "outputs": [],
   "source": [
    "final = dict(zip(questions, answers))"
   ]
  },
  {
   "cell_type": "code",
   "execution_count": 34,
   "metadata": {},
   "outputs": [
    {
     "data": {
      "text/plain": [
       "{'What is Arduino?': 'Glad you asked, we have a great introduction page on Arduino, click here to read it.\\n\\n',\n",
       " 'What do you mean by open-source hardware?': 'Open-source hardware shares much of the principles and approach of free and open-source software.  In particular, we believe that people should be able to study our hardware to understand how it works, make changes to it, and share those changes.  To facilitate this, we release all of the original design files (Eagle CAD) for the Arduino hardware.  These files are licensed under a Creative Commons Attribution Share-Alike license, which allows for both personal and commercial derivative works, as long as they credit Arduino and release their designs under the same license.\\nThe Arduino software is also open-source.  The source code for the Java environment is released under the GPL and the C/C++ microcontroller libraries are under the LGPL.\\n\\n',\n",
       " 'How can I get an Arduino board?': \"You can buy an Arduino board from the official store online or from one of the distributors listed on this page. If you'd prefer to build your own, see the Arduino Single-Sided Serial board, which can be easily etched and assembled.\\n\\n\",\n",
       " 'Which are the official Arduino boards?': 'The official Arduino boards are the ones listed on the product page. These are boards whose manufacturers work with the Arduino team to ensure a good user experience, compatibility with the Arduino software, and a quality product. In return for their status as official boards, the manufacturers pay a licensing fee to the Arduino team to support the further development of the project.\\n',\n",
       " 'Can I use the Arduino logo to identify non commercial content?': \"If you're creating tutorials, managing a local community of Arduino users, opening up an Arduino-focused page online (ie. social networks) you can use the Arduino Community Logo! This will allow people identify better what comes directly from us, and what comes from the community.\\n\\n\",\n",
       " 'I want to design my own board, what should I do?': \"The reference designs for the Arduino boards are available from their specific product pages.  They're licensed under a Creative Commons Attribution Share-Alike license, so you are free to use and adapt them for your own needs without asking permission or paying a fee. If you're looking to make something of interest to the community, we'd encourage you to discuss your ideas on the hardware development forum so that potential users can offer suggestions.\\n\\n\",\n",
       " 'What should I call my boards?': 'If you\\'re making your own board, come up with your own name! This will allow people identify you with your products and help you to build a brand. Be creative: try to suggest what people might use the board for, or emphasize the form factor, or just pick a random word that sounds cool. \"Arduino\" is a trademark of Arduino LLC and should not be used for unofficial variants. If you\\'re interested in having your design included in the official Arduino product line, please see the So you want to make an Arduino document and contact the Arduino team.\\nWhile unofficial products should not have \"Arduino\" in their name, it\\'s okay to describe your product in relation to the Arduino project and platform. Here are a few guidelines that explain which uses we consider reasonable.\\n',\n",
       " 'Can I build a commercial product based on Arduino?': 'Yes, with the following conditions:\\n',\n",
       " 'How can I run the Arduino IDE under Linux?': 'See instructions for Ubuntu Linux, for Debian Linux, for Gentoo Linux, for Linux, or for Linux on PPC.  This this forum thread has more information.  Or, you can use Arduino from the command line, and not have to install Java.\\n\\n',\n",
       " 'Can I program the Arduino board in C?': 'In fact, you already are; the Arduino language is merely a set of C/C++ functions that can be called from your code.  Your sketch undergoes minor changes (e.g. automatic generation of function prototypes) and then is passed directly to a C/C++ compiler (avr-g++).  All standard C and C++ constructs supported by avr-g++ should work in Arduino.  For more details, see the page on the Arduino build process.\\n\\n',\n",
       " 'Can I use a different IDE to program the Arduino board?': \"It is possible to compile programs for the Arduino using other build tools (e.g. Makefiles and/or AVR Studio).  You'll need to configure these to link against the appropriate files in the Arduino core libraries.  See the description of the Arduino build process.\\n\\n\",\n",
       " 'Can I use an Arduino board without the Arduino software?': \"Sure.  It's just an AVR development board, you can use straight AVR C or C++ (with avr-gcc and avrdude or AVR Studio) to program it.\\n\\n\",\n",
       " 'Can I program an Arduino board without the Arduino IDE?': 'Yes, you can use Create web editor to program your board without the need of download the classic IDE.\\n',\n",
       " 'Can I use the Arduino software with other AVR boards?': 'Yes, although it may require some modifications to the Arduino core libraries.  \\n\\n',\n",
       " 'Where is the troubleshooting section?': 'These questions have moved to the troubleshooting section of the Arduino guide.\\n\\n',\n",
       " 'Do you have a Privacy Policy about my data as registered user?': \"Yes, check out our Privacy Policy page. \\nThere you will see how we handle visitor's information and our non-disclosure policies.\\n\\n\",\n",
       " \"I tried to login with my email and it didn't work, what should I do?\": 'Please always make sure to use your username, not your email to login.\\n\\n',\n",
       " \"I tried to login with my username and it didn't work.\": 'Please make sure you spelled your username right, including capital letters if present.\\n\\n',\n",
       " 'But it worked until a few days ago…': \"We've just migrated to a new authentication system with improved security.\\n\\n\",\n",
       " 'But it still works on some sites…': \"We haven't finished migrating everything, you'll probably experience some hiccups.\\n\\n\",\n",
       " 'I have real trouble logging in or signing up, what should I do?': 'Send an email to support[at]arduino.cc\\n\\n'}"
      ]
     },
     "execution_count": 34,
     "metadata": {},
     "output_type": "execute_result"
    }
   ],
   "source": [
    "final"
   ]
  },
  {
   "cell_type": "code",
   "execution_count": null,
   "metadata": {},
   "outputs": [],
   "source": []
  }
 ],
 "metadata": {
  "kernelspec": {
   "display_name": "Python 3",
   "language": "python",
   "name": "python3"
  },
  "language_info": {
   "codemirror_mode": {
    "name": "ipython",
    "version": 3
   },
   "file_extension": ".py",
   "mimetype": "text/x-python",
   "name": "python",
   "nbconvert_exporter": "python",
   "pygments_lexer": "ipython3",
   "version": "3.8.5"
  }
 },
 "nbformat": 4,
 "nbformat_minor": 4
}
